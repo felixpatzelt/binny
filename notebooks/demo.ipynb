{
 "cells": [
  {
   "cell_type": "code",
   "execution_count": 1,
   "metadata": {},
   "outputs": [
    {
     "name": "stdout",
     "output_type": "stream",
     "text": [
      "Using matplotlib backend: MacOSX\n"
     ]
    }
   ],
   "source": [
    "# modify if necessary\n",
    "%matplotlib\n",
    "import matplotlib.pyplot as plt\n",
    "\n",
    "import numpy as np\n",
    "import pandas as pd\n",
    "import binny"
   ]
  },
  {
   "cell_type": "code",
   "execution_count": 2,
   "metadata": {},
   "outputs": [],
   "source": [
    "# create some very normal data with lots of noise\n",
    "N      = 1000\n",
    "np.random.seed(123)\n",
    "\n",
    "x      = np.random.normal(scale=5, size=N)\n",
    "y_tru  = 5 * x + 1\n",
    "y_obs  = y_tru + np.random.normal(scale=100, size=N)\n",
    "\n",
    "df     = pd.DataFrame(\n",
    "    {\n",
    "        'y_tru':  y_tru,\n",
    "        'y_obs':  y_obs,\n",
    "    },\n",
    "    index=x\n",
    ")"
   ]
  },
  {
   "cell_type": "code",
   "execution_count": 3,
   "metadata": {},
   "outputs": [
    {
     "data": {
      "text/html": [
       "<div>\n",
       "<style scoped>\n",
       "    .dataframe tbody tr th:only-of-type {\n",
       "        vertical-align: middle;\n",
       "    }\n",
       "\n",
       "    .dataframe tbody tr th {\n",
       "        vertical-align: top;\n",
       "    }\n",
       "\n",
       "    .dataframe thead th {\n",
       "        text-align: right;\n",
       "    }\n",
       "</style>\n",
       "<table border=\"1\" class=\"dataframe\">\n",
       "  <thead>\n",
       "    <tr style=\"text-align: right;\">\n",
       "      <th></th>\n",
       "      <th>y_tru</th>\n",
       "      <th>y_obs</th>\n",
       "    </tr>\n",
       "  </thead>\n",
       "  <tbody>\n",
       "    <tr>\n",
       "      <td>-5.428153</td>\n",
       "      <td>-26.140765</td>\n",
       "      <td>-101.023512</td>\n",
       "    </tr>\n",
       "    <tr>\n",
       "      <td>4.986727</td>\n",
       "      <td>25.933636</td>\n",
       "      <td>82.693109</td>\n",
       "    </tr>\n",
       "    <tr>\n",
       "      <td>1.414892</td>\n",
       "      <td>8.074462</td>\n",
       "      <td>79.889517</td>\n",
       "    </tr>\n",
       "    <tr>\n",
       "      <td>-7.531474</td>\n",
       "      <td>-36.657368</td>\n",
       "      <td>-136.595443</td>\n",
       "    </tr>\n",
       "    <tr>\n",
       "      <td>-2.893001</td>\n",
       "      <td>-13.465006</td>\n",
       "      <td>34.024826</td>\n",
       "    </tr>\n",
       "  </tbody>\n",
       "</table>\n",
       "</div>"
      ],
      "text/plain": [
       "               y_tru       y_obs\n",
       "-5.428153 -26.140765 -101.023512\n",
       " 4.986727  25.933636   82.693109\n",
       " 1.414892   8.074462   79.889517\n",
       "-7.531474 -36.657368 -136.595443\n",
       "-2.893001 -13.465006   34.024826"
      ]
     },
     "execution_count": 3,
     "metadata": {},
     "output_type": "execute_result"
    }
   ],
   "source": [
    "df.head()"
   ]
  },
  {
   "cell_type": "code",
   "execution_count": 4,
   "metadata": {},
   "outputs": [
    {
     "data": {
      "text/plain": [
       "<matplotlib.axes._subplots.AxesSubplot at 0x110b4abe0>"
      ]
     },
     "execution_count": 4,
     "metadata": {},
     "output_type": "execute_result"
    },
    {
     "data": {
      "image/png": "[encoded data removed]",
      "text/plain": [
       "<Figure size 432x288 with 1 Axes>"
      ]
     },
     "metadata": {
      "needs_background": "light"
     },
     "output_type": "display_data"
    }
   ],
   "source": [
    "# this looks indeed very noisy\n",
    "plt.close(1)\n",
    "fig, ax = plt.subplots(num=1)\n",
    "df.plot(y=['y_tru','y_obs'], style=['.', '.'], ax=ax)"
   ]
  },
  {
   "cell_type": "code",
   "execution_count": 5,
   "metadata": {},
   "outputs": [],
   "source": [
    "# binny allows us to bin using very little code\n",
    "binned = binny.bin_df(\n",
    "    # the input data from above\n",
    "    df,\n",
    "    # how to bin the df columns. default is just mean.\n",
    "    # here, we also want the standard error\n",
    "    bin_col_func=['mean','se'],\n",
    "    # choose the number of bins\n",
    "    bins=10\n",
    ")"
   ]
  },
  {
   "cell_type": "code",
   "execution_count": 6,
   "metadata": {},
   "outputs": [
    {
     "data": {
      "text/html": [
       "<div>\n",
       "<style scoped>\n",
       "    .dataframe tbody tr th:only-of-type {\n",
       "        vertical-align: middle;\n",
       "    }\n",
       "\n",
       "    .dataframe tbody tr th {\n",
       "        vertical-align: top;\n",
       "    }\n",
       "\n",
       "    .dataframe thead tr th {\n",
       "        text-align: left;\n",
       "    }\n",
       "\n",
       "    .dataframe thead tr:last-of-type th {\n",
       "        text-align: right;\n",
       "    }\n",
       "</style>\n",
       "<table border=\"1\" class=\"dataframe\">\n",
       "  <thead>\n",
       "    <tr>\n",
       "      <th></th>\n",
       "      <th colspan=\"2\" halign=\"left\">y_tru</th>\n",
       "      <th colspan=\"2\" halign=\"left\">y_obs</th>\n",
       "    </tr>\n",
       "    <tr>\n",
       "      <th></th>\n",
       "      <th>mean</th>\n",
       "      <th>se</th>\n",
       "      <th>mean</th>\n",
       "      <th>se</th>\n",
       "    </tr>\n",
       "    <tr>\n",
       "      <th>x</th>\n",
       "      <th></th>\n",
       "      <th></th>\n",
       "      <th></th>\n",
       "      <th></th>\n",
       "    </tr>\n",
       "  </thead>\n",
       "  <tbody>\n",
       "    <tr>\n",
       "      <td>-14.779285</td>\n",
       "      <td>-72.896423</td>\n",
       "      <td>2.231899</td>\n",
       "      <td>-11.023319</td>\n",
       "      <td>38.306450</td>\n",
       "    </tr>\n",
       "    <tr>\n",
       "      <td>-10.401970</td>\n",
       "      <td>-51.009852</td>\n",
       "      <td>0.930757</td>\n",
       "      <td>-56.300929</td>\n",
       "      <td>14.676493</td>\n",
       "    </tr>\n",
       "    <tr>\n",
       "      <td>-6.349354</td>\n",
       "      <td>-30.746770</td>\n",
       "      <td>0.483002</td>\n",
       "      <td>-36.272024</td>\n",
       "      <td>7.453882</td>\n",
       "    </tr>\n",
       "    <tr>\n",
       "      <td>-1.999380</td>\n",
       "      <td>-8.996899</td>\n",
       "      <td>0.344399</td>\n",
       "      <td>-0.513227</td>\n",
       "      <td>5.315838</td>\n",
       "    </tr>\n",
       "    <tr>\n",
       "      <td>1.985338</td>\n",
       "      <td>10.926692</td>\n",
       "      <td>0.376014</td>\n",
       "      <td>9.736130</td>\n",
       "      <td>5.483252</td>\n",
       "    </tr>\n",
       "    <tr>\n",
       "      <td>6.251109</td>\n",
       "      <td>32.255546</td>\n",
       "      <td>0.509429</td>\n",
       "      <td>28.471377</td>\n",
       "      <td>7.805379</td>\n",
       "    </tr>\n",
       "    <tr>\n",
       "      <td>10.260005</td>\n",
       "      <td>52.300025</td>\n",
       "      <td>1.076102</td>\n",
       "      <td>47.935794</td>\n",
       "      <td>23.046125</td>\n",
       "    </tr>\n",
       "    <tr>\n",
       "      <td>15.494680</td>\n",
       "      <td>78.473398</td>\n",
       "      <td>4.954823</td>\n",
       "      <td>46.768803</td>\n",
       "      <td>49.561006</td>\n",
       "    </tr>\n",
       "  </tbody>\n",
       "</table>\n",
       "</div>"
      ],
      "text/plain": [
       "                y_tru                y_obs           \n",
       "                 mean        se       mean         se\n",
       "x                                                    \n",
       "-14.779285 -72.896423  2.231899 -11.023319  38.306450\n",
       "-10.401970 -51.009852  0.930757 -56.300929  14.676493\n",
       "-6.349354  -30.746770  0.483002 -36.272024   7.453882\n",
       "-1.999380   -8.996899  0.344399  -0.513227   5.315838\n",
       " 1.985338   10.926692  0.376014   9.736130   5.483252\n",
       " 6.251109   32.255546  0.509429  28.471377   7.805379\n",
       " 10.260005  52.300025  1.076102  47.935794  23.046125\n",
       " 15.494680  78.473398  4.954823  46.768803  49.561006"
      ]
     },
     "execution_count": 6,
     "metadata": {},
     "output_type": "execute_result"
    }
   ],
   "source": [
    "# voilà\n",
    "binned"
   ]
  },
  {
   "cell_type": "code",
   "execution_count": 7,
   "metadata": {},
   "outputs": [
    {
     "data": {
      "text/plain": [
       "<matplotlib.axes._subplots.AxesSubplot at 0x112cc61d0>"
      ]
     },
     "execution_count": 7,
     "metadata": {},
     "output_type": "execute_result"
    },
    {
     "data": {
      "image/png": "[encoded data removed]",
      "text/plain": [
       "<Figure size 432x288 with 1 Axes>"
      ]
     },
     "metadata": {
      "needs_background": "light"
     },
     "output_type": "display_data"
    }
   ],
   "source": [
    "# plot the end result: we reconstructed the underlying regularity\n",
    "# binning the \"hidden\" variable shows that the result is not biased\n",
    "plt.close(2)\n",
    "fig, ax = plt.subplots(num=2)\n",
    "df.plot(y='y_tru', style='--', ax=ax, label='ground truth')\n",
    "binned.plot(\n",
    "    y=[('y_tru','mean'),('y_obs','mean')], \n",
    "    yerr=[2*binned.y_tru.se, 2*binned.y_obs.se],\n",
    "    style='.',\n",
    "    ax=ax\n",
    ")"
   ]
  },
  {
   "cell_type": "code",
   "execution_count": 8,
   "metadata": {},
   "outputs": [],
   "source": [
    "# sometimes our dependent variable is not is not evenly distributed:\n",
    "\n",
    "df2 = pd.DataFrame(\n",
    "    {\n",
    "        'y_tru':  y_tru,\n",
    "        'y_obs':  y_obs,\n",
    "    },\n",
    "    index=np.exp(x)\n",
    ")"
   ]
  },
  {
   "cell_type": "code",
   "execution_count": 9,
   "metadata": {},
   "outputs": [
    {
     "data": {
      "text/plain": [
       "<matplotlib.axes._subplots.AxesSubplot at 0x112e6a5c0>"
      ]
     },
     "execution_count": 9,
     "metadata": {},
     "output_type": "execute_result"
    },
    {
     "data": {
      "image/png": "[encoded data removed]",
      "text/plain": [
       "<Figure size 432x288 with 1 Axes>"
      ]
     },
     "metadata": {
      "needs_background": "light"
     },
     "output_type": "display_data"
    }
   ],
   "source": [
    "# this looks indeed very noisy\n",
    "plt.close(3)\n",
    "fig, ax = plt.subplots(num=3)\n",
    "df2.plot(y=['y_tru','y_obs'], style=['.', '.'], logx=True, ax=ax)"
   ]
  },
  {
   "cell_type": "code",
   "execution_count": 10,
   "metadata": {},
   "outputs": [],
   "source": [
    "# binny allows us to use logarithmic or quantile-base bin sizes.\n",
    "# the latter contain an equal number of samples each\n",
    "binned_2 = binny.bin_df(\n",
    "    # the input data from above\n",
    "    df2,\n",
    "    # how to bin the df columns. default is just mean.\n",
    "    # here, we also want the standard error\n",
    "    bin_col_func=['mean','se','count'],\n",
    "    # choose the number of bins\n",
    "    bins=15,\n",
    "    # choose between 'lin', 'log', 'q' bins\n",
    "    space='log',\n",
    "    # it can make sense to drop extreme outliers\n",
    "    drop_edges=True\n",
    ")"
   ]
  },
  {
   "cell_type": "code",
   "execution_count": 11,
   "metadata": {},
   "outputs": [
    {
     "data": {
      "text/plain": [
       "<matplotlib.axes._subplots.AxesSubplot at 0x112f57eb8>"
      ]
     },
     "execution_count": 11,
     "metadata": {},
     "output_type": "execute_result"
    },
    {
     "data": {
      "image/png": "[encoded data removed]",
      "text/plain": [
       "<Figure size 432x288 with 1 Axes>"
      ]
     },
     "metadata": {
      "needs_background": "light"
     },
     "output_type": "display_data"
    }
   ],
   "source": [
    "plt.close(4)\n",
    "fig, ax = plt.subplots(num=4)\n",
    "df2.plot(y='y_tru', style='-', ax=ax, label='ground truth')\n",
    "binned_2.plot(\n",
    "    y=[('y_tru','mean'),('y_obs','mean')], \n",
    "    yerr=[2*binned_2.y_tru.se, 2*binned_2.y_obs.se],\n",
    "    style='.',\n",
    "    ax=ax,\n",
    "    logx=True\n",
    ")"
   ]
  },
  {
   "cell_type": "code",
   "execution_count": 12,
   "metadata": {},
   "outputs": [],
   "source": [
    "# binny allows us to use logarithmic or quantile-base bin sizes.\n",
    "# the latter contain an equal number of samples each\n",
    "binned_2q = binny.bin_df(\n",
    "    # the input data from above\n",
    "    df2,\n",
    "    # how to bin the df columns. default is just mean.\n",
    "    # here, we also want the standard error\n",
    "    bin_col_func=['mean','se','count'],\n",
    "    # choose the number of bins\n",
    "    bins=15,\n",
    "    # choose between 'lin', 'log', 'q' bins\n",
    "    space='q',\n",
    "    # it can make sense to drop extreme outliers\n",
    "    drop_edges=True,\n",
    "    # we can also choose how the bin center is calculated \n",
    "    # to deal with wild fluctuations\n",
    "    bin_pos_func='median'\n",
    ")"
   ]
  },
  {
   "cell_type": "code",
   "execution_count": 13,
   "metadata": {},
   "outputs": [
    {
     "data": {
      "text/html": [
       "<div>\n",
       "<style scoped>\n",
       "    .dataframe tbody tr th:only-of-type {\n",
       "        vertical-align: middle;\n",
       "    }\n",
       "\n",
       "    .dataframe tbody tr th {\n",
       "        vertical-align: top;\n",
       "    }\n",
       "\n",
       "    .dataframe thead tr th {\n",
       "        text-align: left;\n",
       "    }\n",
       "\n",
       "    .dataframe thead tr:last-of-type th {\n",
       "        text-align: right;\n",
       "    }\n",
       "</style>\n",
       "<table border=\"1\" class=\"dataframe\">\n",
       "  <thead>\n",
       "    <tr>\n",
       "      <th></th>\n",
       "      <th colspan=\"3\" halign=\"left\">y_tru</th>\n",
       "      <th colspan=\"3\" halign=\"left\">y_obs</th>\n",
       "    </tr>\n",
       "    <tr>\n",
       "      <th></th>\n",
       "      <th>mean</th>\n",
       "      <th>se</th>\n",
       "      <th>count</th>\n",
       "      <th>mean</th>\n",
       "      <th>se</th>\n",
       "      <th>count</th>\n",
       "    </tr>\n",
       "    <tr>\n",
       "      <th>x</th>\n",
       "      <th></th>\n",
       "      <th></th>\n",
       "      <th></th>\n",
       "      <th></th>\n",
       "      <th></th>\n",
       "      <th></th>\n",
       "    </tr>\n",
       "  </thead>\n",
       "  <tbody>\n",
       "    <tr>\n",
       "      <td>0.001318</td>\n",
       "      <td>-32.453733</td>\n",
       "      <td>0.326209</td>\n",
       "      <td>67</td>\n",
       "      <td>-29.793870</td>\n",
       "      <td>11.415332</td>\n",
       "      <td>67</td>\n",
       "    </tr>\n",
       "    <tr>\n",
       "      <td>0.005393</td>\n",
       "      <td>-24.792466</td>\n",
       "      <td>0.265814</td>\n",
       "      <td>66</td>\n",
       "      <td>-33.206401</td>\n",
       "      <td>10.615072</td>\n",
       "      <td>66</td>\n",
       "    </tr>\n",
       "    <tr>\n",
       "      <td>0.024830</td>\n",
       "      <td>-17.710809</td>\n",
       "      <td>0.202165</td>\n",
       "      <td>67</td>\n",
       "      <td>-20.641675</td>\n",
       "      <td>11.878945</td>\n",
       "      <td>67</td>\n",
       "    </tr>\n",
       "    <tr>\n",
       "      <td>0.064873</td>\n",
       "      <td>-12.419466</td>\n",
       "      <td>0.191801</td>\n",
       "      <td>67</td>\n",
       "      <td>0.074146</td>\n",
       "      <td>10.564793</td>\n",
       "      <td>67</td>\n",
       "    </tr>\n",
       "    <tr>\n",
       "      <td>0.169263</td>\n",
       "      <td>-7.962619</td>\n",
       "      <td>0.135105</td>\n",
       "      <td>66</td>\n",
       "      <td>9.591540</td>\n",
       "      <td>12.908533</td>\n",
       "      <td>66</td>\n",
       "    </tr>\n",
       "    <tr>\n",
       "      <td>0.369516</td>\n",
       "      <td>-4.008335</td>\n",
       "      <td>0.134142</td>\n",
       "      <td>67</td>\n",
       "      <td>8.146828</td>\n",
       "      <td>11.998405</td>\n",
       "      <td>67</td>\n",
       "    </tr>\n",
       "    <tr>\n",
       "      <td>0.813927</td>\n",
       "      <td>-0.150897</td>\n",
       "      <td>0.153344</td>\n",
       "      <td>66</td>\n",
       "      <td>4.879380</td>\n",
       "      <td>10.739714</td>\n",
       "      <td>66</td>\n",
       "    </tr>\n",
       "    <tr>\n",
       "      <td>1.779787</td>\n",
       "      <td>3.776912</td>\n",
       "      <td>0.129027</td>\n",
       "      <td>67</td>\n",
       "      <td>-8.913771</td>\n",
       "      <td>11.816480</td>\n",
       "      <td>67</td>\n",
       "    </tr>\n",
       "    <tr>\n",
       "      <td>4.054056</td>\n",
       "      <td>7.876878</td>\n",
       "      <td>0.151076</td>\n",
       "      <td>67</td>\n",
       "      <td>23.829290</td>\n",
       "      <td>11.224042</td>\n",
       "      <td>67</td>\n",
       "    </tr>\n",
       "    <tr>\n",
       "      <td>10.451731</td>\n",
       "      <td>12.831747</td>\n",
       "      <td>0.224752</td>\n",
       "      <td>66</td>\n",
       "      <td>23.279661</td>\n",
       "      <td>11.023410</td>\n",
       "      <td>66</td>\n",
       "    </tr>\n",
       "    <tr>\n",
       "      <td>33.950290</td>\n",
       "      <td>18.898130</td>\n",
       "      <td>0.212984</td>\n",
       "      <td>67</td>\n",
       "      <td>0.531197</td>\n",
       "      <td>11.279621</td>\n",
       "      <td>67</td>\n",
       "    </tr>\n",
       "    <tr>\n",
       "      <td>130.248320</td>\n",
       "      <td>25.173428</td>\n",
       "      <td>0.184669</td>\n",
       "      <td>66</td>\n",
       "      <td>14.576711</td>\n",
       "      <td>11.927454</td>\n",
       "      <td>66</td>\n",
       "    </tr>\n",
       "    <tr>\n",
       "      <td>531.757136</td>\n",
       "      <td>32.447412</td>\n",
       "      <td>0.385744</td>\n",
       "      <td>67</td>\n",
       "      <td>38.798775</td>\n",
       "      <td>12.454342</td>\n",
       "      <td>67</td>\n",
       "    </tr>\n",
       "    <tr>\n",
       "      <td>6120.405419</td>\n",
       "      <td>46.890729</td>\n",
       "      <td>0.980066</td>\n",
       "      <td>66</td>\n",
       "      <td>34.703133</td>\n",
       "      <td>12.719013</td>\n",
       "      <td>66</td>\n",
       "    </tr>\n",
       "  </tbody>\n",
       "</table>\n",
       "</div>"
      ],
      "text/plain": [
       "                 y_tru                      y_obs                 \n",
       "                  mean        se count       mean         se count\n",
       "x                                                                 \n",
       "0.001318    -32.453733  0.326209    67 -29.793870  11.415332    67\n",
       "0.005393    -24.792466  0.265814    66 -33.206401  10.615072    66\n",
       "0.024830    -17.710809  0.202165    67 -20.641675  11.878945    67\n",
       "0.064873    -12.419466  0.191801    67   0.074146  10.564793    67\n",
       "0.169263     -7.962619  0.135105    66   9.591540  12.908533    66\n",
       "0.369516     -4.008335  0.134142    67   8.146828  11.998405    67\n",
       "0.813927     -0.150897  0.153344    66   4.879380  10.739714    66\n",
       "1.779787      3.776912  0.129027    67  -8.913771  11.816480    67\n",
       "4.054056      7.876878  0.151076    67  23.829290  11.224042    67\n",
       "10.451731    12.831747  0.224752    66  23.279661  11.023410    66\n",
       "33.950290    18.898130  0.212984    67   0.531197  11.279621    67\n",
       "130.248320   25.173428  0.184669    66  14.576711  11.927454    66\n",
       "531.757136   32.447412  0.385744    67  38.798775  12.454342    67\n",
       "6120.405419  46.890729  0.980066    66  34.703133  12.719013    66"
      ]
     },
     "execution_count": 13,
     "metadata": {},
     "output_type": "execute_result"
    }
   ],
   "source": [
    "binned_2q"
   ]
  },
  {
   "cell_type": "code",
   "execution_count": 14,
   "metadata": {},
   "outputs": [
    {
     "data": {
      "text/plain": [
       "<matplotlib.axes._subplots.AxesSubplot at 0x1131f6400>"
      ]
     },
     "execution_count": 14,
     "metadata": {},
     "output_type": "execute_result"
    },
    {
     "data": {
      "image/png": "[encoded data removed]",
      "text/plain": [
       "<Figure size 432x288 with 1 Axes>"
      ]
     },
     "metadata": {
      "needs_background": "light"
     },
     "output_type": "display_data"
    }
   ],
   "source": [
    "# now the error is no longer influenced from the different\n",
    "# sample counts in the bins\n",
    "plt.close(5)\n",
    "fig, ax = plt.subplots(num=5)\n",
    "df2.plot(y='y_tru', style='-', ax=ax, label='ground truth')\n",
    "binned_2q.plot(\n",
    "    y=[('y_tru','mean'),('y_obs','mean')], \n",
    "    yerr=[2*binned_2q.y_tru.se, 2*binned_2q.y_obs.se],\n",
    "    style='.',\n",
    "    ax=ax,\n",
    "    logx=True\n",
    ")"
   ]
  },
  {
   "cell_type": "code",
   "execution_count": null,
   "metadata": {},
   "outputs": [],
   "source": []
  }
 ],
 "metadata": {
  "kernelspec": {
   "display_name": "Python 3",
   "language": "python",
   "name": "python3"
  },
  "language_info": {
   "codemirror_mode": {
    "name": "ipython",
    "version": 3
   },
   "file_extension": ".py",
   "mimetype": "text/x-python",
   "name": "python",
   "nbconvert_exporter": "python",
   "pygments_lexer": "ipython3",
   "version": "3.7.3"
  }
 },
 "nbformat": 4,
 "nbformat_minor": 2
}
