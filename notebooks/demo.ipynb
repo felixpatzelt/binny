{
 "cells": [
  {
   "cell_type": "code",
   "execution_count": 7,
   "metadata": {},
   "outputs": [],
   "source": [
    "# import interactive matplotlib for jupyter lab\n",
    "# modify if necessary\n",
    "%matplotlib ipympl\n",
    "import matplotlib.pyplot as plt\n",
    "\n",
    "import numpy as np\n",
    "import pandas as pd\n",
    "import binny"
   ]
  },
  {
   "cell_type": "code",
   "execution_count": 10,
   "metadata": {},
   "outputs": [
    {
     "data": {
      "text/plain": [
       "<module 'binny' from '/Users/felix/Documents/projects/devel_python/binny/binny/__init__.py'>"
      ]
     },
     "execution_count": 10,
     "metadata": {},
     "output_type": "execute_result"
    }
   ],
   "source": [
    "from importlib import reload\n",
    "reload(binny.binny)\n",
    "reload(binny.general_helpers)\n",
    "reload(binny)"
   ]
  },
  {
   "cell_type": "code",
   "execution_count": 309,
   "metadata": {},
   "outputs": [],
   "source": [
    "# create some very normal data with lots of noise\n",
    "N      = 1000\n",
    "np.random.seed(123)\n",
    "\n",
    "x      = np.random.normal(scale=5, size=N)\n",
    "y_tru  = 5 * x + 1\n",
    "y_obs  = y_tru + np.random.normal(scale=100, size=N)\n",
    "\n",
    "df     = pd.DataFrame(\n",
    "    {\n",
    "        'y_tru':  y_tru,\n",
    "        'y_obs':  y_obs,\n",
    "    },\n",
    "    index=x\n",
    ")"
   ]
  },
  {
   "cell_type": "code",
   "execution_count": 310,
   "metadata": {},
   "outputs": [
    {
     "data": {
      "text/html": [
       "<div>\n",
       "<style scoped>\n",
       "    .dataframe tbody tr th:only-of-type {\n",
       "        vertical-align: middle;\n",
       "    }\n",
       "\n",
       "    .dataframe tbody tr th {\n",
       "        vertical-align: top;\n",
       "    }\n",
       "\n",
       "    .dataframe thead th {\n",
       "        text-align: right;\n",
       "    }\n",
       "</style>\n",
       "<table border=\"1\" class=\"dataframe\">\n",
       "  <thead>\n",
       "    <tr style=\"text-align: right;\">\n",
       "      <th></th>\n",
       "      <th>y_tru</th>\n",
       "      <th>y_obs</th>\n",
       "    </tr>\n",
       "  </thead>\n",
       "  <tbody>\n",
       "    <tr>\n",
       "      <td>-5.428153</td>\n",
       "      <td>-26.140765</td>\n",
       "      <td>-101.023512</td>\n",
       "    </tr>\n",
       "    <tr>\n",
       "      <td>4.986727</td>\n",
       "      <td>25.933636</td>\n",
       "      <td>82.693109</td>\n",
       "    </tr>\n",
       "    <tr>\n",
       "      <td>1.414892</td>\n",
       "      <td>8.074462</td>\n",
       "      <td>79.889517</td>\n",
       "    </tr>\n",
       "    <tr>\n",
       "      <td>-7.531474</td>\n",
       "      <td>-36.657368</td>\n",
       "      <td>-136.595443</td>\n",
       "    </tr>\n",
       "    <tr>\n",
       "      <td>-2.893001</td>\n",
       "      <td>-13.465006</td>\n",
       "      <td>34.024826</td>\n",
       "    </tr>\n",
       "  </tbody>\n",
       "</table>\n",
       "</div>"
      ],
      "text/plain": [
       "               y_tru       y_obs\n",
       "-5.428153 -26.140765 -101.023512\n",
       " 4.986727  25.933636   82.693109\n",
       " 1.414892   8.074462   79.889517\n",
       "-7.531474 -36.657368 -136.595443\n",
       "-2.893001 -13.465006   34.024826"
      ]
     },
     "execution_count": 310,
     "metadata": {},
     "output_type": "execute_result"
    }
   ],
   "source": [
    "df.head()"
   ]
  },
  {
   "cell_type": "code",
   "execution_count": 311,
   "metadata": {},
   "outputs": [
    {
     "data": {
      "application/vnd.jupyter.widget-view+json": {
       "model_id": "17fb7b45515346f884f2448b3c2ca084",
       "version_major": 2,
       "version_minor": 0
      },
      "text/plain": [
       "FigureCanvasNbAgg()"
      ]
     },
     "metadata": {},
     "output_type": "display_data"
    },
    {
     "data": {
      "text/plain": [
       "<matplotlib.axes._subplots.AxesSubplot at 0x145365898>"
      ]
     },
     "execution_count": 311,
     "metadata": {},
     "output_type": "execute_result"
    }
   ],
   "source": [
    "# this looks indeed very noisy\n",
    "plt.close(1)\n",
    "fig, ax = plt.subplots(num=1)\n",
    "df.plot(y=['y_tru','y_obs'], style=['.', '.'], ax=ax)"
   ]
  },
  {
   "cell_type": "code",
   "execution_count": 312,
   "metadata": {},
   "outputs": [],
   "source": [
    "# binny allows us to bin using very little code\n",
    "binned = binny.bin_df(\n",
    "    # the input data from above\n",
    "    df,\n",
    "    # how to bin the df columns. default is just mean.\n",
    "    # here, we also want the standard error\n",
    "    bin_col_func=['mean','se'],\n",
    "    # choose the number of bins\n",
    "    bins=10\n",
    ")"
   ]
  },
  {
   "cell_type": "code",
   "execution_count": 313,
   "metadata": {},
   "outputs": [
    {
     "data": {
      "text/html": [
       "<div>\n",
       "<style scoped>\n",
       "    .dataframe tbody tr th:only-of-type {\n",
       "        vertical-align: middle;\n",
       "    }\n",
       "\n",
       "    .dataframe tbody tr th {\n",
       "        vertical-align: top;\n",
       "    }\n",
       "\n",
       "    .dataframe thead tr th {\n",
       "        text-align: left;\n",
       "    }\n",
       "\n",
       "    .dataframe thead tr:last-of-type th {\n",
       "        text-align: right;\n",
       "    }\n",
       "</style>\n",
       "<table border=\"1\" class=\"dataframe\">\n",
       "  <thead>\n",
       "    <tr>\n",
       "      <th></th>\n",
       "      <th colspan=\"2\" halign=\"left\">y_tru</th>\n",
       "      <th colspan=\"2\" halign=\"left\">y_obs</th>\n",
       "    </tr>\n",
       "    <tr>\n",
       "      <th></th>\n",
       "      <th>mean</th>\n",
       "      <th>se</th>\n",
       "      <th>mean</th>\n",
       "      <th>se</th>\n",
       "    </tr>\n",
       "    <tr>\n",
       "      <th>x</th>\n",
       "      <th></th>\n",
       "      <th></th>\n",
       "      <th></th>\n",
       "      <th></th>\n",
       "    </tr>\n",
       "  </thead>\n",
       "  <tbody>\n",
       "    <tr>\n",
       "      <td>-14.779285</td>\n",
       "      <td>-72.896423</td>\n",
       "      <td>2.231899</td>\n",
       "      <td>-11.023319</td>\n",
       "      <td>38.306450</td>\n",
       "    </tr>\n",
       "    <tr>\n",
       "      <td>-10.401970</td>\n",
       "      <td>-51.009852</td>\n",
       "      <td>0.930757</td>\n",
       "      <td>-56.300929</td>\n",
       "      <td>14.676493</td>\n",
       "    </tr>\n",
       "    <tr>\n",
       "      <td>-6.349354</td>\n",
       "      <td>-30.746770</td>\n",
       "      <td>0.483002</td>\n",
       "      <td>-36.272024</td>\n",
       "      <td>7.453882</td>\n",
       "    </tr>\n",
       "    <tr>\n",
       "      <td>-1.999380</td>\n",
       "      <td>-8.996899</td>\n",
       "      <td>0.344399</td>\n",
       "      <td>-0.513227</td>\n",
       "      <td>5.315838</td>\n",
       "    </tr>\n",
       "    <tr>\n",
       "      <td>1.985338</td>\n",
       "      <td>10.926692</td>\n",
       "      <td>0.376014</td>\n",
       "      <td>9.736130</td>\n",
       "      <td>5.483252</td>\n",
       "    </tr>\n",
       "    <tr>\n",
       "      <td>6.251109</td>\n",
       "      <td>32.255546</td>\n",
       "      <td>0.509429</td>\n",
       "      <td>28.471377</td>\n",
       "      <td>7.805379</td>\n",
       "    </tr>\n",
       "    <tr>\n",
       "      <td>10.260005</td>\n",
       "      <td>52.300025</td>\n",
       "      <td>1.076102</td>\n",
       "      <td>47.935794</td>\n",
       "      <td>23.046125</td>\n",
       "    </tr>\n",
       "    <tr>\n",
       "      <td>15.494680</td>\n",
       "      <td>78.473398</td>\n",
       "      <td>4.954823</td>\n",
       "      <td>46.768803</td>\n",
       "      <td>49.561006</td>\n",
       "    </tr>\n",
       "  </tbody>\n",
       "</table>\n",
       "</div>"
      ],
      "text/plain": [
       "                y_tru                y_obs           \n",
       "                 mean        se       mean         se\n",
       "x                                                    \n",
       "-14.779285 -72.896423  2.231899 -11.023319  38.306450\n",
       "-10.401970 -51.009852  0.930757 -56.300929  14.676493\n",
       "-6.349354  -30.746770  0.483002 -36.272024   7.453882\n",
       "-1.999380   -8.996899  0.344399  -0.513227   5.315838\n",
       " 1.985338   10.926692  0.376014   9.736130   5.483252\n",
       " 6.251109   32.255546  0.509429  28.471377   7.805379\n",
       " 10.260005  52.300025  1.076102  47.935794  23.046125\n",
       " 15.494680  78.473398  4.954823  46.768803  49.561006"
      ]
     },
     "execution_count": 313,
     "metadata": {},
     "output_type": "execute_result"
    }
   ],
   "source": [
    "# voilà\n",
    "binned"
   ]
  },
  {
   "cell_type": "code",
   "execution_count": 314,
   "metadata": {},
   "outputs": [
    {
     "data": {
      "application/vnd.jupyter.widget-view+json": {
       "model_id": "9c8f551e8df840efab9031320526cdbd",
       "version_major": 2,
       "version_minor": 0
      },
      "text/plain": [
       "FigureCanvasNbAgg()"
      ]
     },
     "metadata": {},
     "output_type": "display_data"
    },
    {
     "data": {
      "text/plain": [
       "<matplotlib.axes._subplots.AxesSubplot at 0x145394b70>"
      ]
     },
     "execution_count": 314,
     "metadata": {},
     "output_type": "execute_result"
    }
   ],
   "source": [
    "# plot the end result: we reconstructed the underlying regularity\n",
    "# binning the \"hidden\" variable shows that the result is not biased\n",
    "plt.close(2)\n",
    "fig, ax = plt.subplots(num=2)\n",
    "df.plot(y='y_tru', style='--', ax=ax, label='ground truth')\n",
    "binned.plot(\n",
    "    y=[('y_tru','mean'),('y_obs','mean')], \n",
    "    yerr=[2*binned.y_tru.se, 2*binned.y_obs.se],\n",
    "    style='.',\n",
    "    ax=ax\n",
    ")"
   ]
  },
  {
   "cell_type": "code",
   "execution_count": 315,
   "metadata": {},
   "outputs": [],
   "source": [
    "# sometimes our dependent variable is not is not evenly distributed:\n",
    "\n",
    "df2 = pd.DataFrame(\n",
    "    {\n",
    "        'y_tru':  y_tru,\n",
    "        'y_obs':  y_obs,\n",
    "    },\n",
    "    index=np.exp(x)\n",
    ")"
   ]
  },
  {
   "cell_type": "code",
   "execution_count": 316,
   "metadata": {},
   "outputs": [
    {
     "data": {
      "application/vnd.jupyter.widget-view+json": {
       "model_id": "b36f740f3e1c43dd9fe58a820d362ff3",
       "version_major": 2,
       "version_minor": 0
      },
      "text/plain": [
       "FigureCanvasNbAgg()"
      ]
     },
     "metadata": {},
     "output_type": "display_data"
    },
    {
     "data": {
      "text/plain": [
       "<matplotlib.axes._subplots.AxesSubplot at 0x1454200f0>"
      ]
     },
     "execution_count": 316,
     "metadata": {},
     "output_type": "execute_result"
    }
   ],
   "source": [
    "# this looks indeed very noisy\n",
    "plt.close(3)\n",
    "fig, ax = plt.subplots(num=3)\n",
    "df2.plot(y=['y_tru','y_obs'], style=['.', '.'], logx=True, ax=ax)"
   ]
  },
  {
   "cell_type": "code",
   "execution_count": 317,
   "metadata": {},
   "outputs": [],
   "source": [
    "# binny allows us to use logarithmic or quantile-base bin sizes.\n",
    "# the latter contain an equal number of samples each\n",
    "binned_2 = binny.bin_df(\n",
    "    # the input data from above\n",
    "    df2,\n",
    "    # how to bin the df columns. default is just mean.\n",
    "    # here, we also want the standard error\n",
    "    bin_col_func=['mean','se','count'],\n",
    "    # choose the number of bins\n",
    "    bins=15,\n",
    "    # choose between 'lin', 'log', 'q' bins\n",
    "    space='log',\n",
    "    # it can make sense to drop extreme outliers\n",
    "    drop_edges=True\n",
    ")"
   ]
  },
  {
   "cell_type": "code",
   "execution_count": 318,
   "metadata": {},
   "outputs": [
    {
     "data": {
      "application/vnd.jupyter.widget-view+json": {
       "model_id": "e1a9c03fc6d84f0a981e049cb3bf95e8",
       "version_major": 2,
       "version_minor": 0
      },
      "text/plain": [
       "FigureCanvasNbAgg()"
      ]
     },
     "metadata": {},
     "output_type": "display_data"
    },
    {
     "data": {
      "text/plain": [
       "<matplotlib.axes._subplots.AxesSubplot at 0x16b075898>"
      ]
     },
     "execution_count": 318,
     "metadata": {},
     "output_type": "execute_result"
    }
   ],
   "source": [
    "plt.close(4)\n",
    "fig, ax = plt.subplots(num=4)\n",
    "df2.plot(y='y_tru', style='-', ax=ax, label='ground truth')\n",
    "binned_2.plot(\n",
    "    y=[('y_tru','mean'),('y_obs','mean')], \n",
    "    yerr=[2*binned_2.y_tru.se, 2*binned_2.y_obs.se],\n",
    "    style='.',\n",
    "    ax=ax,\n",
    "    logx=True\n",
    ")"
   ]
  },
  {
   "cell_type": "code",
   "execution_count": null,
   "metadata": {},
   "outputs": [],
   "source": []
  },
  {
   "cell_type": "code",
   "execution_count": 319,
   "metadata": {},
   "outputs": [],
   "source": [
    "# binny allows us to use logarithmic or quantile-base bin sizes.\n",
    "# the latter contain an equal number of samples each\n",
    "binned_2q = binny.bin_df(\n",
    "    # the input data from above\n",
    "    df2,\n",
    "    # how to bin the df columns. default is just mean.\n",
    "    # here, we also want the standard error\n",
    "    bin_col_func=['mean','se','count'],\n",
    "    # choose the number of bins\n",
    "    bins=15,\n",
    "    # choose between 'lin', 'log', 'q' bins\n",
    "    space='q',\n",
    "    # it can make sense to drop extreme outliers\n",
    "    drop_edges=True\n",
    ")"
   ]
  },
  {
   "cell_type": "code",
   "execution_count": 320,
   "metadata": {},
   "outputs": [
    {
     "data": {
      "application/vnd.jupyter.widget-view+json": {
       "model_id": "96281745ede44d79b2b0c0f1b64afcb2",
       "version_major": 2,
       "version_minor": 0
      },
      "text/plain": [
       "FigureCanvasNbAgg()"
      ]
     },
     "metadata": {},
     "output_type": "display_data"
    },
    {
     "data": {
      "text/plain": [
       "<matplotlib.axes._subplots.AxesSubplot at 0x178b12eb8>"
      ]
     },
     "execution_count": 320,
     "metadata": {},
     "output_type": "execute_result"
    }
   ],
   "source": [
    "# now the error is no longer influenced from the different\n",
    "# sample counts in the bins\n",
    "plt.close(5)\n",
    "fig, ax = plt.subplots(num=5)\n",
    "df2.plot(y='y_tru', style='-', ax=ax, label='ground truth')\n",
    "binned_2q.plot(\n",
    "    y=[('y_tru','mean'),('y_obs','mean')], \n",
    "    yerr=[2*binned_2q.y_tru.se, 2*binned_2q.y_obs.se],\n",
    "    style='.',\n",
    "    ax=ax,\n",
    "    logx=True\n",
    ")"
   ]
  },
  {
   "cell_type": "code",
   "execution_count": null,
   "metadata": {},
   "outputs": [],
   "source": []
  }
 ],
 "metadata": {
  "kernelspec": {
   "display_name": "Python 3",
   "language": "python",
   "name": "python3"
  },
  "language_info": {
   "codemirror_mode": {
    "name": "ipython",
    "version": 3
   },
   "file_extension": ".py",
   "mimetype": "text/x-python",
   "name": "python",
   "nbconvert_exporter": "python",
   "pygments_lexer": "ipython3",
   "version": "3.7.3"
  }
 },
 "nbformat": 4,
 "nbformat_minor": 2
}
